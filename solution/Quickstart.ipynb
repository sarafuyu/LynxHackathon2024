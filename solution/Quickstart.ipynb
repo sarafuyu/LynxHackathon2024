{
 "cells": [
  {
   "cell_type": "code",
   "execution_count": 4,
   "id": "803d88f6-7d21-4443-8852-cc74131d13e1",
   "metadata": {
    "execution": {
     "iopub.execute_input": "2024-01-26T11:53:13.396143Z",
     "iopub.status.busy": "2024-01-26T11:53:13.396143Z",
     "iopub.status.idle": "2024-01-26T11:53:15.356217Z",
     "shell.execute_reply": "2024-01-26T11:53:15.355212Z",
     "shell.execute_reply.started": "2024-01-26T11:53:13.396143Z"
    },
    "tags": []
   },
   "outputs": [],
   "source": [
    "import pandas as pd\n",
    "import numpy as np\n",
    "from optimization import *"
   ]
  },
  {
   "cell_type": "markdown",
   "id": "0969b09d-29c7-44d0-b072-c860beb7ff70",
   "metadata": {},
   "source": [
    "## load_data"
   ]
  },
  {
   "cell_type": "code",
   "execution_count": 5,
   "id": "02e8854f",
   "metadata": {},
   "outputs": [
    {
     "name": "stdout",
     "output_type": "stream",
     "text": [
      "(5159, 14)\n"
     ]
    }
   ],
   "source": [
    "# load prices\n",
    "prices = pd.read_csv('prices_train.csv', index_col='AsOfDate', parse_dates=['AsOfDate'])\n",
    "print(prices.shape)"
   ]
  },
  {
   "cell_type": "markdown",
   "id": "3d641936",
   "metadata": {},
   "source": [
    "## Trend Model"
   ]
  },
  {
   "cell_type": "code",
   "execution_count": 6,
   "id": "33d1930d-d33b-423f-97b2-7bbceafc10bd",
   "metadata": {
    "execution": {
     "iopub.execute_input": "2024-01-26T11:53:17.246238Z",
     "iopub.status.busy": "2024-01-26T11:53:17.245240Z",
     "iopub.status.idle": "2024-01-26T11:53:24.058690Z",
     "shell.execute_reply": "2024-01-26T11:53:24.057690Z",
     "shell.execute_reply.started": "2024-01-26T11:53:17.246238Z"
    },
    "tags": []
   },
   "outputs": [
    {
     "name": "stdout",
     "output_type": "stream",
     "text": [
      "100\n",
      "14\n",
      "(140, 140)\n",
      "(140, 140)\n",
      "(140, 1)\n"
     ]
    },
    {
     "ename": "TypeError",
     "evalue": "Cannot interpret '140' as a data type",
     "output_type": "error",
     "traceback": [
      "\u001b[1;31m---------------------------------------------------------------------------\u001b[0m",
      "\u001b[1;31mTypeError\u001b[0m                                 Traceback (most recent call last)",
      "Cell \u001b[1;32mIn[6], line 23\u001b[0m\n\u001b[0;32m     20\u001b[0m         pos\u001b[38;5;241m.\u001b[39miloc[t] \u001b[38;5;241m=\u001b[39m x_t\n\u001b[0;32m     21\u001b[0m     \u001b[38;5;28;01mreturn\u001b[39;00m pos\n\u001b[1;32m---> 23\u001b[0m position \u001b[38;5;241m=\u001b[39m \u001b[43mtrend_model\u001b[49m\u001b[43m(\u001b[49m\u001b[43mprices\u001b[49m\u001b[43m)\u001b[49m\n",
      "Cell \u001b[1;32mIn[6], line 16\u001b[0m, in \u001b[0;36mtrend_model\u001b[1;34m(prices)\u001b[0m\n\u001b[0;32m     13\u001b[0m \u001b[38;5;28mprint\u001b[39m(t)\n\u001b[0;32m     14\u001b[0m \u001b[38;5;66;03m### predict here k time steps ahead of t.\u001b[39;00m\n\u001b[1;32m---> 16\u001b[0m x_t \u001b[38;5;241m=\u001b[39m \u001b[43moptimize\u001b[49m\u001b[43m(\u001b[49m\u001b[43mprices\u001b[49m\u001b[43m,\u001b[49m\u001b[43m \u001b[49m\u001b[43mx_tm1\u001b[49m\u001b[43m,\u001b[49m\u001b[43m \u001b[49m\u001b[43mlamb\u001b[49m\u001b[43m,\u001b[49m\u001b[43m \u001b[49m\u001b[43mdelta\u001b[49m\u001b[43m,\u001b[49m\u001b[43m \u001b[49m\u001b[43mt\u001b[49m\u001b[43m)\u001b[49m\n\u001b[0;32m     18\u001b[0m \u001b[38;5;66;03m# Position at date t; risk adjust with volatility from previous date\u001b[39;00m\n\u001b[0;32m     19\u001b[0m x_tm1 \u001b[38;5;241m=\u001b[39m x_t\n",
      "File \u001b[1;32mc:\\Users\\jakob\\OneDrive\\Career\\LynxHackathon2024\\solution\\optimization.py:62\u001b[0m, in \u001b[0;36moptimize\u001b[1;34m(prices, x_tm1, lamb, delta, t)\u001b[0m\n\u001b[0;32m     60\u001b[0m \u001b[38;5;28mprint\u001b[39m(B\u001b[38;5;241m.\u001b[39mshape)\n\u001b[0;32m     61\u001b[0m \u001b[38;5;28mprint\u001b[39m(e_t\u001b[38;5;241m.\u001b[39mshape)\n\u001b[1;32m---> 62\u001b[0m objective \u001b[38;5;241m=\u001b[39m cp\u001b[38;5;241m.\u001b[39mMinimize(x\u001b[38;5;241m.\u001b[39mT \u001b[38;5;241m@\u001b[39m C \u001b[38;5;241m@\u001b[39m x \u001b[38;5;241m-\u001b[39m lamb\u001b[38;5;241m*\u001b[39m(np\u001b[38;5;241m.\u001b[39mones((\u001b[38;5;241m1\u001b[39m,m\u001b[38;5;241m*\u001b[39mk)) \u001b[38;5;241m@\u001b[39m A \u001b[38;5;241m@\u001b[39m x \u001b[38;5;241m-\u001b[39m \u001b[43mnp\u001b[49m\u001b[38;5;241;43m.\u001b[39;49m\u001b[43mones\u001b[49m\u001b[43m(\u001b[49m\u001b[38;5;241;43m1\u001b[39;49m\u001b[43m,\u001b[49m\u001b[43mm\u001b[49m\u001b[38;5;241;43m*\u001b[39;49m\u001b[43mk\u001b[49m\u001b[43m)\u001b[49m \u001b[38;5;241m@\u001b[39m delta\u001b[38;5;241m*\u001b[39mnp\u001b[38;5;241m.\u001b[39mabs(B \u001b[38;5;241m@\u001b[39m x \u001b[38;5;241m-\u001b[39m e_t)))\n\u001b[0;32m     63\u001b[0m constraints \u001b[38;5;241m=\u001b[39m cp\u001b[38;5;241m.\u001b[39mconstraints(\u001b[38;5;28;01mTrue\u001b[39;00m)\n\u001b[0;32m     64\u001b[0m problem \u001b[38;5;241m=\u001b[39m cp\u001b[38;5;241m.\u001b[39mProblem(objective, constraints)\n",
      "File \u001b[1;32m~\\AppData\\Local\\Packages\\PythonSoftwareFoundation.Python.3.11_qbz5n2kfra8p0\\LocalCache\\local-packages\\Python311\\site-packages\\numpy\\core\\numeric.py:191\u001b[0m, in \u001b[0;36mones\u001b[1;34m(shape, dtype, order, like)\u001b[0m\n\u001b[0;32m    188\u001b[0m \u001b[38;5;28;01mif\u001b[39;00m like \u001b[38;5;129;01mis\u001b[39;00m \u001b[38;5;129;01mnot\u001b[39;00m \u001b[38;5;28;01mNone\u001b[39;00m:\n\u001b[0;32m    189\u001b[0m     \u001b[38;5;28;01mreturn\u001b[39;00m _ones_with_like(like, shape, dtype\u001b[38;5;241m=\u001b[39mdtype, order\u001b[38;5;241m=\u001b[39morder)\n\u001b[1;32m--> 191\u001b[0m a \u001b[38;5;241m=\u001b[39m empty(shape, dtype, order)\n\u001b[0;32m    192\u001b[0m multiarray\u001b[38;5;241m.\u001b[39mcopyto(a, \u001b[38;5;241m1\u001b[39m, casting\u001b[38;5;241m=\u001b[39m\u001b[38;5;124m'\u001b[39m\u001b[38;5;124munsafe\u001b[39m\u001b[38;5;124m'\u001b[39m)\n\u001b[0;32m    193\u001b[0m \u001b[38;5;28;01mreturn\u001b[39;00m a\n",
      "\u001b[1;31mTypeError\u001b[0m: Cannot interpret '140' as a data type"
     ]
    }
   ],
   "source": [
    "def trend_model(prices):\n",
    "    ret = prices.ffill().diff()\n",
    "    \n",
    "    pos = pd.DataFrame(np.nan, index=ret.index, columns=ret.columns)\n",
    "\n",
    "    FIRST_TRADING_DAY = 100\n",
    "    n_preds = 10\n",
    "    lamb = 1\n",
    "    delta = 0.0002\n",
    "    x_tm1 = np.zeros(prices.shape[1])\n",
    "    # loop over all dates\n",
    "    for t in range(FIRST_TRADING_DAY, ret.shape[0]-1):\n",
    "        print(t)\n",
    "        ### predict here k time steps ahead of t.\n",
    "        \n",
    "        x_t = optimize(prices, x_tm1, lamb, delta, t)\n",
    "        \n",
    "        # Position at date t; risk adjust with volatility from previous date\n",
    "        x_tm1 = x_t\n",
    "        pos.iloc[t] = x_t\n",
    "    return pos\n",
    "\n",
    "position = trend_model(prices)"
   ]
  },
  {
   "cell_type": "markdown",
   "id": "7b70583a-feb8-4ec9-96d6-ebe01c3ee92e",
   "metadata": {
    "execution": {
     "iopub.execute_input": "2023-03-20T16:53:29.988844Z",
     "iopub.status.busy": "2023-03-20T16:53:29.987844Z",
     "iopub.status.idle": "2023-03-20T16:53:36.782932Z",
     "shell.execute_reply": "2023-03-20T16:53:36.781932Z",
     "shell.execute_reply.started": "2023-03-20T16:53:29.988844Z"
    },
    "tags": []
   },
   "source": [
    "## evaluate results"
   ]
  },
  {
   "cell_type": "markdown",
   "id": "a61c3743-93b5-4397-93c1-37ea4f841635",
   "metadata": {},
   "source": [
    "## save your positions to a file"
   ]
  },
  {
   "cell_type": "code",
   "execution_count": 5,
   "id": "c33e1135-d415-45d3-aa2c-4b881ad79d40",
   "metadata": {},
   "outputs": [],
   "source": [
    "position.to_csv('results.csv')"
   ]
  }
 ],
 "metadata": {
  "kernelspec": {
   "display_name": "Python 3 (ipykernel)",
   "language": "python",
   "name": "python3"
  },
  "language_info": {
   "codemirror_mode": {
    "name": "ipython",
    "version": 3
   },
   "file_extension": ".py",
   "mimetype": "text/x-python",
   "name": "python",
   "nbconvert_exporter": "python",
   "pygments_lexer": "ipython3",
   "version": "3.11.8"
  },
  "widgets": {
   "application/vnd.jupyter.widget-state+json": {
    "state": {},
    "version_major": 2,
    "version_minor": 0
   }
  }
 },
 "nbformat": 4,
 "nbformat_minor": 5
}
