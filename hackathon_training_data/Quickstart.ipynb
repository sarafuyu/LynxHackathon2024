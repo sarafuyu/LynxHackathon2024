{
 "cells": [
  {
   "cell_type": "code",
   "execution_count": null,
   "id": "803d88f6-7d21-4443-8852-cc74131d13e1",
   "metadata": {
    "execution": {
     "iopub.execute_input": "2024-01-26T11:53:13.396143Z",
     "iopub.status.busy": "2024-01-26T11:53:13.396143Z",
     "iopub.status.idle": "2024-01-26T11:53:15.356217Z",
     "shell.execute_reply": "2024-01-26T11:53:15.355212Z",
     "shell.execute_reply.started": "2024-01-26T11:53:13.396143Z"
    },
    "tags": []
   },
   "outputs": [],
   "source": [
    "import pandas as pd\n",
    "import numpy as np\n",
    "import evaluation\n",
    "import optimization"
   ]
  },
  {
   "cell_type": "code",
   "execution_count": null,
   "id": "3f8e1f26-eb14-4ebe-953e-f1e4db4b0726",
   "metadata": {
    "execution": {
     "iopub.execute_input": "2024-01-26T11:53:16.279414Z",
     "iopub.status.busy": "2024-01-26T11:53:16.278417Z",
     "iopub.status.idle": "2024-01-26T11:53:16.321433Z",
     "shell.execute_reply": "2024-01-26T11:53:16.320431Z",
     "shell.execute_reply.started": "2024-01-26T11:53:16.279414Z"
    },
    "tags": []
   },
   "outputs": [],
   "source": [
    "# load prices\n",
    "prices = pd.read_csv('prices_train.csv', index_col='AsOfDate', parse_dates=['AsOfDate'])\n"
   ]
  }
 ],
 "metadata": {
  "kernelspec": {
   "display_name": "Python 3 (ipykernel)",
   "language": "python",
   "name": "python3"
  },
  "language_info": {
   "codemirror_mode": {
    "name": "ipython",
    "version": 3
   },
   "file_extension": ".py",
   "mimetype": "text/x-python",
   "name": "python",
   "nbconvert_exporter": "python",
   "pygments_lexer": "ipython3",
   "version": "3.12.0"
  },
  "widgets": {
   "application/vnd.jupyter.widget-state+json": {
    "state": {},
    "version_major": 2,
    "version_minor": 0
   }
  }
 },
 "nbformat": 4,
 "nbformat_minor": 5
}
